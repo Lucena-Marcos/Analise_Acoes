{
  "nbformat": 4,
  "nbformat_minor": 0,
  "metadata": {
    "colab": {
      "name": "OIBR3.ipynb",
      "provenance": [],
      "toc_visible": true,
      "mount_file_id": "1kcOW4eAbS3r1eD00sgbd171WaV1r_L9U",
      "authorship_tag": "ABX9TyN/tCs6EJLHor6Zu4WN9p1o",
      "include_colab_link": true
    },
    "kernelspec": {
      "name": "python3",
      "display_name": "Python 3"
    }
  },
  "cells": [
    {
      "cell_type": "markdown",
      "metadata": {
        "id": "view-in-github",
        "colab_type": "text"
      },
      "source": [
        "<a href=\"https://colab.research.google.com/github/Lucena-Marcos/Analise_Acoes/blob/main/OIBR3.ipynb\" target=\"_parent\"><img src=\"https://colab.research.google.com/assets/colab-badge.svg\" alt=\"Open In Colab\"/></a>"
      ]
    },
    {
      "cell_type": "markdown",
      "metadata": {
        "id": "5z0WV5w7IdDa"
      },
      "source": [
        ""
      ]
    },
    {
      "cell_type": "markdown",
      "metadata": {
        "id": "BqSZCQ5pLyER"
      },
      "source": [
        "![download.jpeg](data:image/jpeg;base64,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)\n",
        "\n",
        "\n",
        "\n",
        "\n",
        "\n",
        "\n"
      ]
    },
    {
      "cell_type": "markdown",
      "metadata": {
        "id": "GNRn1EAgFbdh"
      },
      "source": [
        "# **ANALISE ACIONÁRIA DA OIBR3**\n",
        "\n",
        "> ANALISE GRÁFICA DA AÇÃO DURANTE OS ANOS\n",
        "\n",
        "\n",
        "> MÉDIA MOVEL\n",
        "\n",
        "\n",
        "> TENDÊNCIA DE ALTA/BAIXA\n",
        "\n",
        "\n",
        "\n",
        "\n",
        "\n",
        "---\n",
        "\n",
        "\n",
        "\n",
        "\n",
        "\n",
        "\n",
        "\n",
        "\n"
      ]
    },
    {
      "cell_type": "code",
      "metadata": {
        "id": "je0MKX1MFN3a"
      },
      "source": [
        ""
      ],
      "execution_count": null,
      "outputs": []
    }
  ]
}