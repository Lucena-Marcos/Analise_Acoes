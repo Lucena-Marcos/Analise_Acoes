{
  "nbformat": 4,
  "nbformat_minor": 0,
  "metadata": {
    "colab": {
      "name": "Stock_Prediction.ipynb",
      "private_outputs": true,
      "provenance": [],
      "mount_file_id": "1vcB-oH-Kdvd1S-eVFK1T5t2h3lXz3bHp",
      "authorship_tag": "ABX9TyMn87coo+9alyorMiTdZk5f",
      "include_colab_link": true
    },
    "kernelspec": {
      "name": "python3",
      "display_name": "Python 3"
    },
    "accelerator": "GPU"
  },
  "cells": [
    {
      "cell_type": "markdown",
      "metadata": {
        "id": "view-in-github",
        "colab_type": "text"
      },
      "source": [
        "<a href=\"https://colab.research.google.com/github/Lucena-Marcos/Analise_Acoes/blob/main/Stock_Prediction.ipynb\" target=\"_parent\"><img src=\"https://colab.research.google.com/assets/colab-badge.svg\" alt=\"Open In Colab\"/></a>"
      ]
    },
    {
      "cell_type": "markdown",
      "metadata": {
        "id": "O9vf-bM7QFtI"
      },
      "source": [
        "![download (1).jpeg](data:image/jpeg;base64,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)"
      ]
    },
    {
      "cell_type": "markdown",
      "metadata": {
        "id": "jfRFbkZLQQyb"
      },
      "source": [
        "# **STOCK PRICE PREDICTION**\n",
        "\n",
        "\n",
        "---\n",
        "\n",
        "\n",
        "\n",
        "\n",
        "\n"
      ]
    },
    {
      "cell_type": "code",
      "metadata": {
        "id": "VYY974xZHeOZ"
      },
      "source": [
        "import math\n",
        "import pandas_datareader as web\n",
        "import numpy as np\n",
        "import pandas as pd\n",
        "from sklearn.preprocessing import MinMaxScaler\n",
        "from keras.models import Sequential\n",
        "from keras.layers import Dense, LSTM\n",
        "import matplotlib.pyplot as plt\n",
        "plt.style.use('fivethirtyeight')"
      ],
      "execution_count": null,
      "outputs": []
    },
    {
      "cell_type": "code",
      "metadata": {
        "id": "1-5zET5yLXFX"
      },
      "source": [
        "# get the sock quote\n",
        "# novo modo de retirar historico de ações diretamente do yahoo\n",
        "df = web.DataReader('AAPL', data_source='yahoo', start='2012-01-01', end='2019-12-17')\n",
        "# show the data\n",
        "df"
      ],
      "execution_count": null,
      "outputs": []
    },
    {
      "cell_type": "code",
      "metadata": {
        "id": "qOQri87wMbEY"
      },
      "source": [
        "# get the number of rowns e columns in the data set\n",
        "# confere com a informação acima\n",
        "df.shape"
      ],
      "execution_count": null,
      "outputs": []
    },
    {
      "cell_type": "code",
      "metadata": {
        "id": "eaqCK_o0NcNU"
      },
      "source": [
        "# Visualize the closing price history\n",
        "# grafico pelo matplotlib\n",
        "\n",
        "# definindo o tamanho do grafico\n",
        "plt.figure(figsize=(16,8))\n",
        "# definindo o titulo\n",
        "plt.title(\"Close Price History\")\n",
        "# pedindo para plotar as indormações de fechamento\n",
        "plt.plot(df['Close'])\n",
        "# definindo o texto abaixo do grafico e seu tamanho\n",
        "plt.xlabel(\"Date\", fontsize=18)\n",
        "# definindo o texto no angulo y e seu tamanho\n",
        "plt.ylabel('Close Price USD ($)', fontsize=18)\n",
        "# mostrar o grafico\n",
        "plt.show()"
      ],
      "execution_count": null,
      "outputs": []
    },
    {
      "cell_type": "code",
      "metadata": {
        "id": "Ol2V_FxNRdGx"
      },
      "source": [
        "# Creat a new dataframe with only the 'Close' column\n",
        "data = df.filter(['Close'])\n",
        "# Converter the dataframe to a Numpy array\n",
        "dataset = data.values\n",
        "# get the number of rows to train the model on\n",
        "training_data_len = math.ceil(len(dataset) * .8)\n",
        "\n",
        "training_data_len"
      ],
      "execution_count": null,
      "outputs": []
    },
    {
      "cell_type": "code",
      "metadata": {
        "id": "AcVYwQlIUF-9"
      },
      "source": [
        "# Scale the data\n",
        "scaler = MinMaxScaler(feature_range=(0,1))\n",
        "scaled_data = scaler.fit_transform(dataset)\n",
        "\n",
        "scaled_data"
      ],
      "execution_count": null,
      "outputs": []
    },
    {
      "cell_type": "code",
      "metadata": {
        "id": "7bm9eUZ5UlEp"
      },
      "source": [
        "# Create the training data set\n",
        "# Creat the scaled training data set\n",
        "train_data = scaled_data[0:training_data_len , :]\n",
        "#Split the data into x_train and y_train data sets\n",
        "x_train = []\n",
        "y_train = []\n",
        "\n",
        "for i in range(60, len(train_data)):\n",
        "  x_train.append(train_data[i-60:i,0])\n",
        "  y_train.append(train_data[i,0])\n",
        "  if i <= 61:\n",
        "    print(x_train)\n",
        "    print(y_train)\n",
        "    print()"
      ],
      "execution_count": null,
      "outputs": []
    },
    {
      "cell_type": "code",
      "metadata": {
        "id": "9nEV2C26YZ3h"
      },
      "source": [
        "# Convert the x_train and y_train to numpy arrays\n",
        "x_train, y_train = np.array(x_train), np.array(y_train)"
      ],
      "execution_count": null,
      "outputs": []
    },
    {
      "cell_type": "code",
      "metadata": {
        "id": "VZa-f53aY2zh"
      },
      "source": [
        "# Reshepa the data\n",
        "x_train = np.reshape(x_train, (x_train.shape[0], x_train.shape[1], 1))\n",
        "x_train.shape"
      ],
      "execution_count": null,
      "outputs": []
    },
    {
      "cell_type": "code",
      "metadata": {
        "id": "9Izqei_naEHP"
      },
      "source": [
        "# Build the LSTM model\n",
        "model = Sequential()\n",
        "model.add(LSTM(50, return_sequences=True, input_shape=(x_train.shape[1], 1)))\n",
        "model.add(LSTM(50, return_sequences=False))\n",
        "model.add(Dense(25))\n",
        "model.add(Dense(1))"
      ],
      "execution_count": null,
      "outputs": []
    },
    {
      "cell_type": "code",
      "metadata": {
        "id": "xfESnhoHculs"
      },
      "source": [
        "# Compile the model\n",
        "model.compile(optimizer='adam', loss='mean_squared_error')"
      ],
      "execution_count": null,
      "outputs": []
    },
    {
      "cell_type": "code",
      "metadata": {
        "id": "-XoKUnqMeSne"
      },
      "source": [
        "# train the model\n",
        "model.fit(x_train, y_train, batch_size=1, epochs=1)\n"
      ],
      "execution_count": null,
      "outputs": []
    },
    {
      "cell_type": "code",
      "metadata": {
        "id": "qoNLAL3igzmm"
      },
      "source": [
        "# Create teh etsting data set\n",
        "# Create a new array containing scaled values from index 1543 to 2003\n",
        "test_data = scaled_data[training_data_len - 60: , :]\n",
        "# Creat the data sets x_test and y_test\n",
        "x_test = []\n",
        "y_test = dataset[training_data_len:, :]\n",
        "for i in range(60, len(test_data)):\n",
        "  x_test.append(test_data[i-60:i,0])\n"
      ],
      "execution_count": null,
      "outputs": []
    },
    {
      "cell_type": "code",
      "metadata": {
        "id": "VPRz0AlTlFrF"
      },
      "source": [
        "# Convert the data to a numpay array\n",
        "x_test =  np.array(x_test)"
      ],
      "execution_count": null,
      "outputs": []
    },
    {
      "cell_type": "code",
      "metadata": {
        "id": "JkyjltSflYmT"
      },
      "source": [
        "# Reshape the data\n",
        "x_test = np.reshape(x_test, (x_test.shape[0], x_test.shape[1], 1))"
      ],
      "execution_count": null,
      "outputs": []
    },
    {
      "cell_type": "code",
      "metadata": {
        "id": "9pqCM4wUl-GF"
      },
      "source": [
        "# Get the models predicted price values\n",
        "predictions = model.predict(x_test)\n",
        "predictions = scaler.inverse_transform(predictions)"
      ],
      "execution_count": null,
      "outputs": []
    },
    {
      "cell_type": "code",
      "metadata": {
        "id": "IfEdgDmpmWlB"
      },
      "source": [
        "# Get the root main squared erro (RMSE)\n",
        "rmse = np.sqrt(np.mean(predictions - y_test )**2)\n",
        "rmse"
      ],
      "execution_count": null,
      "outputs": []
    },
    {
      "cell_type": "code",
      "metadata": {
        "id": "3V400LSpptyu"
      },
      "source": [
        "# PLot the data\n",
        "train = data[:training_data_len]\n",
        "valid = data[training_data_len:]\n",
        "valid['Predictions'] = predictions\n",
        "# Visualize thhe data\n",
        "plt.figure(figsize=(16,8))\n",
        "plt.title('Model')\n",
        "plt.xlabel('Date', fontsize =18)\n",
        "plt.ylabel('Close Price USD ($)', fontsize=18)\n",
        "plt.plot(train['Close'])\n",
        "plt.plot(valid[['Close', 'Predictions']])\n",
        "plt.legend(['Train', 'val','Predictions'], loc='lower right')\n",
        "plt.show()"
      ],
      "execution_count": null,
      "outputs": []
    },
    {
      "cell_type": "code",
      "metadata": {
        "id": "xG3Rmx4Ysuej"
      },
      "source": [
        "# Show the valid and predicted prices\n",
        "valid"
      ],
      "execution_count": null,
      "outputs": []
    },
    {
      "cell_type": "code",
      "metadata": {
        "id": "a1PcGcX7s9wF"
      },
      "source": [
        "# get the quote\n",
        "apple_quote = web.DataReader('AAPL', data_source='yahoo', start='2012-01-01', end = '2019-12-17')\n",
        "# Creat new dataframe\n",
        "new_df = apple_quote.filter(['Close'])\n",
        "# Get the last 60 day Closing price values and convert the dataframe to an array\n",
        "last_60_days = new_df[-60:].values\n",
        "# Scale the data to be values between 0 an 1\n",
        "last_60_days_scaled = scaler.transform(last_60_days)\n",
        "# Creat an empty list\n",
        "x_test = []\n",
        "# append the past 60 days\n",
        "x_test.append(last_60_days_scaled)\n",
        "# Convert the x_test data set to a numpy array\n",
        "x_test = np.array(x_test)\n",
        "# Reshape the data\n",
        "x_test = np.reshape(x_test, (x_test.shape[0],x_test.shape[1], 1))\n",
        "# Get the predicted scale price\n",
        "pred_price = model.predict(x_test)\n",
        "#undo the scaling\n",
        "pred_price = scaler.inverse_transform(pred_price)\n",
        "print(pred_price)\n"
      ],
      "execution_count": null,
      "outputs": []
    },
    {
      "cell_type": "code",
      "metadata": {
        "id": "XwuHXG__xrg2"
      },
      "source": [
        "# get the quote\n",
        "apple_quote = web.DataReader('AAPL', data_source='yahoo', start='2019-12-18', end = '2019-12-18')\n",
        "print(apple_quote['Close'])"
      ],
      "execution_count": null,
      "outputs": []
    }
  ]
}